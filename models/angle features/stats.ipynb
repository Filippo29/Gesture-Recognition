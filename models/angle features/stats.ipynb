{
 "cells": [
  {
   "cell_type": "code",
   "execution_count": 2,
   "metadata": {},
   "outputs": [
    {
     "name": "stdout",
     "output_type": "stream",
     "text": [
      "<class 'pandas.core.frame.DataFrame'>\n",
      "RangeIndex: 959 entries, 0 to 958\n",
      "Data columns (total 4 columns):\n",
      " #   Column                                     Non-Null Count  Dtype  \n",
      "---  ------                                     --------------  -----  \n",
      " 0   angle_rightHip_rightShoulder_rightElbow    959 non-null    float64\n",
      " 1   angle_leftHip_leftShoulder_leftElbow       959 non-null    float64\n",
      " 2   angle_rightShoulder_rightElbow_rightWrist  959 non-null    float64\n",
      " 3   angle_leftShoulder_leftElbow_leftWrist     959 non-null    float64\n",
      "dtypes: float64(4)\n",
      "memory usage: 30.1 KB\n"
     ]
    }
   ],
   "source": [
    "import pandas as pd\n",
    "\n",
    "df = pd.read_csv('angles_pose_dataset.csv')\n",
    "df = df.drop(df.columns[0], axis=1)\n",
    "df = df.drop('image_name', axis=1)\n",
    "\n",
    "df = df.drop(columns=['label'])\n",
    "\n",
    "df.info()"
   ]
  },
  {
   "cell_type": "code",
   "execution_count": 8,
   "metadata": {},
   "outputs": [
    {
     "data": {
      "text/html": [
       "<div>\n",
       "<style scoped>\n",
       "    .dataframe tbody tr th:only-of-type {\n",
       "        vertical-align: middle;\n",
       "    }\n",
       "\n",
       "    .dataframe tbody tr th {\n",
       "        vertical-align: top;\n",
       "    }\n",
       "\n",
       "    .dataframe thead th {\n",
       "        text-align: right;\n",
       "    }\n",
       "</style>\n",
       "<table border=\"1\" class=\"dataframe\">\n",
       "  <thead>\n",
       "    <tr style=\"text-align: right;\">\n",
       "      <th></th>\n",
       "      <th>features</th>\n",
       "      <th>min</th>\n",
       "      <th>max</th>\n",
       "      <th>mean</th>\n",
       "      <th>std</th>\n",
       "    </tr>\n",
       "  </thead>\n",
       "  <tbody>\n",
       "    <tr>\n",
       "      <th>0</th>\n",
       "      <td>angle_rightHip_rightShoulder_rightElbow</td>\n",
       "      <td>2.254754</td>\n",
       "      <td>6.061491</td>\n",
       "      <td>4.749160</td>\n",
       "      <td>0.868737</td>\n",
       "    </tr>\n",
       "    <tr>\n",
       "      <th>1</th>\n",
       "      <td>angle_leftHip_leftShoulder_leftElbow</td>\n",
       "      <td>0.269008</td>\n",
       "      <td>4.100999</td>\n",
       "      <td>1.541832</td>\n",
       "      <td>0.870533</td>\n",
       "    </tr>\n",
       "    <tr>\n",
       "      <th>2</th>\n",
       "      <td>angle_rightShoulder_rightElbow_rightWrist</td>\n",
       "      <td>1.574178</td>\n",
       "      <td>4.030062</td>\n",
       "      <td>2.681388</td>\n",
       "      <td>0.326530</td>\n",
       "    </tr>\n",
       "    <tr>\n",
       "      <th>3</th>\n",
       "      <td>angle_leftShoulder_leftElbow_leftWrist</td>\n",
       "      <td>2.344564</td>\n",
       "      <td>4.922684</td>\n",
       "      <td>3.557336</td>\n",
       "      <td>0.374581</td>\n",
       "    </tr>\n",
       "  </tbody>\n",
       "</table>\n",
       "</div>"
      ],
      "text/plain": [
       "                                    features       min       max      mean  \\\n",
       "0    angle_rightHip_rightShoulder_rightElbow  2.254754  6.061491  4.749160   \n",
       "1       angle_leftHip_leftShoulder_leftElbow  0.269008  4.100999  1.541832   \n",
       "2  angle_rightShoulder_rightElbow_rightWrist  1.574178  4.030062  2.681388   \n",
       "3     angle_leftShoulder_leftElbow_leftWrist  2.344564  4.922684  3.557336   \n",
       "\n",
       "        std  \n",
       "0  0.868737  \n",
       "1  0.870533  \n",
       "2  0.326530  \n",
       "3  0.374581  "
      ]
     },
     "execution_count": 8,
     "metadata": {},
     "output_type": "execute_result"
    }
   ],
   "source": [
    "data = {\n",
    "    'features': df.columns.to_list(),\n",
    "    'min': df.min().to_numpy(),\n",
    "    'max': df.max().to_numpy(),\n",
    "    'mean': df.mean().to_numpy(),\n",
    "    'std': df.std().to_numpy()\n",
    "}\n",
    "out = pd.DataFrame(data)\n",
    "out"
   ]
  }
 ],
 "metadata": {
  "kernelspec": {
   "display_name": "gesture",
   "language": "python",
   "name": "python3"
  },
  "language_info": {
   "codemirror_mode": {
    "name": "ipython",
    "version": 3
   },
   "file_extension": ".py",
   "mimetype": "text/x-python",
   "name": "python",
   "nbconvert_exporter": "python",
   "pygments_lexer": "ipython3",
   "version": "3.11.9"
  }
 },
 "nbformat": 4,
 "nbformat_minor": 2
}
