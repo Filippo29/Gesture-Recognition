{
 "cells": [
  {
   "cell_type": "markdown",
   "metadata": {},
   "source": [
    "# Data import and analysis"
   ]
  },
  {
   "cell_type": "code",
   "execution_count": 1,
   "metadata": {},
   "outputs": [],
   "source": [
    "import pandas as pd\n",
    "import matplotlib.pyplot as plt\n",
    "import torch\n",
    "import torch.nn as nn\n",
    "import torch.optim as optim\n",
    "from torch.utils.data import Dataset, DataLoader\n",
    "from sklearn.model_selection import train_test_split\n",
    "from sklearn.metrics import classification_report\n",
    "\n",
    "device = torch.device('cuda' if torch.cuda.is_available() else 'cpu')\n",
    "batch_size = 64\n",
    "\n",
    "df = pd.read_csv('angles_pose_dataset.csv')\n",
    "df = df.drop(df.columns[0], axis=1)\n",
    "df = df.drop('image_name', axis=1)"
   ]
  },
  {
   "cell_type": "code",
   "execution_count": 2,
   "metadata": {},
   "outputs": [
    {
     "name": "stdout",
     "output_type": "stream",
     "text": [
      "<class 'pandas.core.frame.DataFrame'>\n",
      "RangeIndex: 959 entries, 0 to 958\n",
      "Data columns (total 5 columns):\n",
      " #   Column                                     Non-Null Count  Dtype  \n",
      "---  ------                                     --------------  -----  \n",
      " 0   angle_rightHip_rightShoulder_rightElbow    959 non-null    float64\n",
      " 1   angle_leftHip_leftShoulder_leftElbow       959 non-null    float64\n",
      " 2   angle_rightShoulder_rightElbow_rightWrist  959 non-null    float64\n",
      " 3   angle_leftShoulder_leftElbow_leftWrist     959 non-null    float64\n",
      " 4   label                                      959 non-null    int64  \n",
      "dtypes: float64(4), int64(1)\n",
      "memory usage: 37.6 KB\n"
     ]
    }
   ],
   "source": [
    "df.info()"
   ]
  },
  {
   "cell_type": "markdown",
   "metadata": {},
   "source": [
    "### Label distribution"
   ]
  },
  {
   "cell_type": "markdown",
   "metadata": {},
   "source": [
    "Original dataset"
   ]
  },
  {
   "cell_type": "code",
   "execution_count": 3,
   "metadata": {},
   "outputs": [
    {
     "data": {
      "image/png": "[encoded data removed]",
      "text/plain": [
       "<Figure size 640x480 with 1 Axes>"
      ]
     },
     "metadata": {},
     "output_type": "display_data"
    }
   ],
   "source": [
    "df.label.value_counts().plot(kind=\"bar\")\n",
    "plt.xticks(rotation=45)\n",
    "plt.show()"
   ]
  },
  {
   "cell_type": "markdown",
   "metadata": {},
   "source": [
    "Extract balanced dataset"
   ]
  },
  {
   "cell_type": "code",
   "execution_count": 4,
   "metadata": {},
   "outputs": [
    {
     "name": "stdout",
     "output_type": "stream",
     "text": [
      "Samples per class: 382\n"
     ]
    },
    {
     "data": {
      "image/png": "[encoded data removed]",
      "text/plain": [
       "<Figure size 640x480 with 1 Axes>"
      ]
     },
     "metadata": {},
     "output_type": "display_data"
    }
   ],
   "source": [
    "class_counts = df.groupby('label').size()\n",
    "min_class_count = class_counts.min() # Class with the lowest number of rows\n",
    "\n",
    "# Extract the same number of rows for each class\n",
    "balanced_data = pd.DataFrame()\n",
    "for label, group in df.groupby('label'):\n",
    "    balanced_data = pd.concat([balanced_data, group.sample(n=min_class_count)])\n",
    "\n",
    "print(\"Samples per class:\", balanced_data.label.value_counts()[0])\n",
    "balanced_data.label.value_counts().plot(kind=\"bar\")\n",
    "plt.xticks(rotation=45)\n",
    "plt.show()"
   ]
  },
  {
   "cell_type": "markdown",
   "metadata": {},
   "source": [
    "### Split dataset"
   ]
  },
  {
   "cell_type": "code",
   "execution_count": 5,
   "metadata": {},
   "outputs": [
    {
     "name": "stdout",
     "output_type": "stream",
     "text": [
      "Train size: 488\n",
      "Test size: 153\n",
      "Validation size: 123\n"
     ]
    }
   ],
   "source": [
    "y = balanced_data['label']\n",
    "X = balanced_data.drop('label', axis=1)\n",
    "\n",
    "# Split train test validation\n",
    "X_train, X_test, y_train, y_test = train_test_split(X, y, test_size=0.2, random_state=42)\n",
    "X_train, X_val, y_train, y_val = train_test_split(X_train, y_train, test_size=0.2, random_state=42)\n",
    "\n",
    "train_loader = DataLoader(list(zip(X_train.values, y_train.values)), batch_size=batch_size, shuffle=True)\n",
    "test_loader = DataLoader(list(zip(X_test.values, y_test.values)), batch_size=batch_size, shuffle=False)\n",
    "val_loader = DataLoader(list(zip(X_val.values, y_val.values)), batch_size=batch_size, shuffle=False)\n",
    "\n",
    "print(\"Train size:\", X_train.shape[0])\n",
    "print(\"Test size:\", X_test.shape[0])\n",
    "print(\"Validation size:\", X_val.shape[0])"
   ]
  },
  {
   "cell_type": "markdown",
   "metadata": {},
   "source": [
    "# Define and train model"
   ]
  },
  {
   "cell_type": "code",
   "execution_count": 6,
   "metadata": {},
   "outputs": [],
   "source": [
    "class PoseClassifier(nn.Module):\n",
    "    def __init__(self):\n",
    "        super(PoseClassifier, self).__init__()\n",
    "        self.fc1 = nn.Linear(4, 128)\n",
    "        self.fc2 = nn.Linear(128, 128)\n",
    "        self.fc3 = nn.Linear(128, 1)\n",
    "        self.relu = nn.ReLU()\n",
    "\n",
    "    def forward(self, x):\n",
    "        x = self.fc1(x)\n",
    "        x = self.relu(x)\n",
    "        x = self.fc2(x)\n",
    "        x = self.relu(x)\n",
    "        x = self.fc3(x)\n",
    "        return x"
   ]
  },
  {
   "cell_type": "code",
   "execution_count": 7,
   "metadata": {},
   "outputs": [
    {
     "data": {
      "text/plain": [
       "BCEWithLogitsLoss()"
      ]
     },
     "execution_count": 7,
     "metadata": {},
     "output_type": "execute_result"
    }
   ],
   "source": [
    "model = PoseClassifier()\n",
    "learning_rate = 0.01\n",
    "criterion = nn.BCEWithLogitsLoss()\n",
    "optimizer = optim.Adam(model.parameters(), lr=learning_rate, weight_decay=0.001)\n",
    "\n",
    "model.to(device)\n",
    "criterion.to(device)"
   ]
  },
  {
   "cell_type": "code",
   "execution_count": 8,
   "metadata": {},
   "outputs": [
    {
     "name": "stdout",
     "output_type": "stream",
     "text": [
      "Epoch 1, Train loss: 0.4454740211367607\n",
      "Validation Accuracy: 0.975609756097561\n",
      "Epoch 2, Train loss: 0.12399985874071717\n",
      "Validation Accuracy: 0.991869918699187\n",
      "Epoch 3, Train loss: 0.07166934199631214\n",
      "Validation Accuracy: 1.0\n",
      "Epoch 4, Train loss: 0.048811251763254404\n",
      "Validation Accuracy: 0.975609756097561\n",
      "Epoch 5, Train loss: 0.05993239738745615\n",
      "Validation Accuracy: 0.991869918699187\n",
      "Epoch 6, Train loss: 0.06899923150194809\n",
      "Validation Accuracy: 1.0\n",
      "Epoch 7, Train loss: 0.057844916358590126\n",
      "Validation Accuracy: 0.991869918699187\n",
      "Epoch 8, Train loss: 0.05325792683288455\n",
      "Validation Accuracy: 0.991869918699187\n",
      "Epoch 9, Train loss: 0.050433110212907195\n",
      "Validation Accuracy: 0.991869918699187\n",
      "Epoch 10, Train loss: 0.0625905446941033\n",
      "Validation Accuracy: 0.975609756097561\n",
      "Epoch 11, Train loss: 0.06900225533172488\n",
      "Validation Accuracy: 0.991869918699187\n",
      "Epoch 12, Train loss: 0.06584430579096079\n",
      "Validation Accuracy: 0.975609756097561\n",
      "Epoch 13, Train loss: 0.057514111744239926\n",
      "Validation Accuracy: 0.991869918699187\n",
      "Early stopping\n",
      "Finished training, best validation accuracy: 1.0\n"
     ]
    }
   ],
   "source": [
    "max_epochs = 100\n",
    "best_val_accuracy = 0\n",
    "patience = 10\n",
    "epochs_no_improve = 0\n",
    "for epoch in range(max_epochs):\n",
    "    model.train()\n",
    "    running_loss = 0.0\n",
    "    for i, data in enumerate(train_loader, 0):\n",
    "        inputs, labels = data\n",
    "        inputs, labels = inputs.to(device), labels.to(device)\n",
    "\n",
    "        optimizer.zero_grad()\n",
    "\n",
    "        outputs = model(inputs.float()).squeeze()\n",
    "        loss = criterion(outputs, labels.float())\n",
    "        loss.backward()\n",
    "        optimizer.step()\n",
    "\n",
    "        running_loss += loss.item()\n",
    "\n",
    "    print(f\"Epoch {epoch+1}, Train loss: {running_loss / len(train_loader)}\")\n",
    "\n",
    "    model.eval()\n",
    "    correct = 0\n",
    "    with torch.no_grad():\n",
    "        for data in val_loader:\n",
    "            inputs, labels = data\n",
    "            inputs, labels = inputs.to(device), labels.to(device)\n",
    "\n",
    "            outputs = model(inputs.float()).squeeze()\n",
    "            predicted = torch.round(torch.sigmoid(outputs))\n",
    "\n",
    "            correct += (predicted == labels).sum().item()\n",
    "    \n",
    "    val_accuracy = correct / len(val_loader.dataset)\n",
    "    print(f\"Validation Accuracy: {val_accuracy}\")\n",
    "    if val_accuracy > best_val_accuracy:\n",
    "        best_val_accuracy = val_accuracy\n",
    "        torch.save(model.state_dict(), 'classifier.pt')\n",
    "        epochs_no_improve = 0\n",
    "    else:\n",
    "        epochs_no_improve += 1\n",
    "        if epochs_no_improve >= patience:\n",
    "            print(\"Early stopping\")\n",
    "            break\n",
    "print(\"Finished training, best validation accuracy:\", best_val_accuracy)"
   ]
  },
  {
   "cell_type": "markdown",
   "metadata": {},
   "source": [
    "# Test"
   ]
  },
  {
   "cell_type": "markdown",
   "metadata": {},
   "source": [
    "Load the best model"
   ]
  },
  {
   "cell_type": "code",
   "execution_count": 9,
   "metadata": {},
   "outputs": [
    {
     "data": {
      "text/plain": [
       "<All keys matched successfully>"
      ]
     },
     "execution_count": 9,
     "metadata": {},
     "output_type": "execute_result"
    }
   ],
   "source": [
    "model.load_state_dict(torch.load('classifier.pt'))"
   ]
  },
  {
   "cell_type": "code",
   "execution_count": 10,
   "metadata": {},
   "outputs": [],
   "source": [
    "all_preds = []\n",
    "all_labels = []\n",
    "\n",
    "model.eval()\n",
    "with torch.no_grad():\n",
    "    for inputs, labels in test_loader:\n",
    "        inputs = inputs.to(device)\n",
    "        labels = labels.to(device)\n",
    "        \n",
    "        outputs = model(inputs.float())\n",
    "        preds = outputs > 0\n",
    "        \n",
    "        all_preds.extend(preds.cpu().numpy())\n",
    "        all_labels.extend(labels.cpu().numpy())"
   ]
  },
  {
   "cell_type": "code",
   "execution_count": 11,
   "metadata": {},
   "outputs": [
    {
     "name": "stdout",
     "output_type": "stream",
     "text": [
      "              precision    recall  f1-score   support\n",
      "\n",
      "           0       1.00      0.97      0.99        80\n",
      "           1       0.97      1.00      0.99        73\n",
      "\n",
      "    accuracy                           0.99       153\n",
      "   macro avg       0.99      0.99      0.99       153\n",
      "weighted avg       0.99      0.99      0.99       153\n",
      "\n"
     ]
    }
   ],
   "source": [
    "print(classification_report(all_labels, all_preds))"
   ]
  },
  {
   "cell_type": "markdown",
   "metadata": {},
   "source": [
    "# Export as onnx"
   ]
  },
  {
   "cell_type": "code",
   "execution_count": 12,
   "metadata": {},
   "outputs": [],
   "source": [
    "dummy_input = torch.randn(1, 4)  # Adjust the dimensions according to your model's input\n",
    "\n",
    "torch.onnx.export(\n",
    "    model,\n",
    "    dummy_input,\n",
    "    \"classifier.onnx\",\n",
    "    export_params=True,\n",
    "    opset_version=11,\n",
    "    do_constant_folding=True,\n",
    "    input_names=['input'],\n",
    "    output_names=['output'],\n",
    "    dynamic_axes={'input': {0: 'batch_size'},\n",
    "                  'output': {0: 'batch_size'}}\n",
    ")"
   ]
  }
 ],
 "metadata": {
  "kernelspec": {
   "display_name": "gesture",
   "language": "python",
   "name": "python3"
  },
  "language_info": {
   "codemirror_mode": {
    "name": "ipython",
    "version": 3
   },
   "file_extension": ".py",
   "mimetype": "text/x-python",
   "name": "python",
   "nbconvert_exporter": "python",
   "pygments_lexer": "ipython3",
   "version": "3.11.9"
  }
 },
 "nbformat": 4,
 "nbformat_minor": 2
}
